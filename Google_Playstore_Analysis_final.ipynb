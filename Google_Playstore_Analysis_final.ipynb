{
  "cells": [
    {
      "cell_type": "code",
      "execution_count": null,
      "metadata": {
        "id": "rtvDtihzMum7"
      },
      "outputs": [],
      "source": [
        "import pandas as pd\n",
        "import numpy as np\n",
        "import plotly.express as px\n",
        "import plotly.io as pio\n",
        "from sklearn.model_selection import train_test_split\n",
        "from sklearn.ensemble import RandomForestRegressor\n",
        "from sklearn.metrics import mean_squared_error, r2_score\n",
        "from nltk.sentiment.vader import SentimentIntensityAnalyzer\n",
        "import nltk\n",
        "import webbrowser\n",
        "import os\n",
        "from google.colab import files"
      ]
    },
    {
      "cell_type": "code",
      "execution_count": 3,
      "metadata": {
        "colab": {
          "base_uri": "https://localhost:8080/",
          "height": 145
        },
        "id": "iluooeQVNS-h",
        "outputId": "11acc840-b0ce-40cc-bd9c-8c966a9fcf14"
      },
      "outputs": [
        {
          "output_type": "stream",
          "name": "stderr",
          "text": [
            "[nltk_data] Downloading package vader_lexicon to /root/nltk_data...\n",
            "[nltk_data]   Package vader_lexicon is already up-to-date!\n"
          ]
        },
        {
          "output_type": "display_data",
          "data": {
            "text/plain": [
              "<IPython.core.display.HTML object>"
            ],
            "text/html": [
              "\n",
              "     <input type=\"file\" id=\"files-e47d2be2-3a63-464e-8f0e-4a16cd552fb4\" name=\"files[]\" multiple disabled\n",
              "        style=\"border:none\" />\n",
              "     <output id=\"result-e47d2be2-3a63-464e-8f0e-4a16cd552fb4\">\n",
              "      Upload widget is only available when the cell has been executed in the\n",
              "      current browser session. Please rerun this cell to enable.\n",
              "      </output>\n",
              "      <script>// Copyright 2017 Google LLC\n",
              "//\n",
              "// Licensed under the Apache License, Version 2.0 (the \"License\");\n",
              "// you may not use this file except in compliance with the License.\n",
              "// You may obtain a copy of the License at\n",
              "//\n",
              "//      http://www.apache.org/licenses/LICENSE-2.0\n",
              "//\n",
              "// Unless required by applicable law or agreed to in writing, software\n",
              "// distributed under the License is distributed on an \"AS IS\" BASIS,\n",
              "// WITHOUT WARRANTIES OR CONDITIONS OF ANY KIND, either express or implied.\n",
              "// See the License for the specific language governing permissions and\n",
              "// limitations under the License.\n",
              "\n",
              "/**\n",
              " * @fileoverview Helpers for google.colab Python module.\n",
              " */\n",
              "(function(scope) {\n",
              "function span(text, styleAttributes = {}) {\n",
              "  const element = document.createElement('span');\n",
              "  element.textContent = text;\n",
              "  for (const key of Object.keys(styleAttributes)) {\n",
              "    element.style[key] = styleAttributes[key];\n",
              "  }\n",
              "  return element;\n",
              "}\n",
              "\n",
              "// Max number of bytes which will be uploaded at a time.\n",
              "const MAX_PAYLOAD_SIZE = 100 * 1024;\n",
              "\n",
              "function _uploadFiles(inputId, outputId) {\n",
              "  const steps = uploadFilesStep(inputId, outputId);\n",
              "  const outputElement = document.getElementById(outputId);\n",
              "  // Cache steps on the outputElement to make it available for the next call\n",
              "  // to uploadFilesContinue from Python.\n",
              "  outputElement.steps = steps;\n",
              "\n",
              "  return _uploadFilesContinue(outputId);\n",
              "}\n",
              "\n",
              "// This is roughly an async generator (not supported in the browser yet),\n",
              "// where there are multiple asynchronous steps and the Python side is going\n",
              "// to poll for completion of each step.\n",
              "// This uses a Promise to block the python side on completion of each step,\n",
              "// then passes the result of the previous step as the input to the next step.\n",
              "function _uploadFilesContinue(outputId) {\n",
              "  const outputElement = document.getElementById(outputId);\n",
              "  const steps = outputElement.steps;\n",
              "\n",
              "  const next = steps.next(outputElement.lastPromiseValue);\n",
              "  return Promise.resolve(next.value.promise).then((value) => {\n",
              "    // Cache the last promise value to make it available to the next\n",
              "    // step of the generator.\n",
              "    outputElement.lastPromiseValue = value;\n",
              "    return next.value.response;\n",
              "  });\n",
              "}\n",
              "\n",
              "/**\n",
              " * Generator function which is called between each async step of the upload\n",
              " * process.\n",
              " * @param {string} inputId Element ID of the input file picker element.\n",
              " * @param {string} outputId Element ID of the output display.\n",
              " * @return {!Iterable<!Object>} Iterable of next steps.\n",
              " */\n",
              "function* uploadFilesStep(inputId, outputId) {\n",
              "  const inputElement = document.getElementById(inputId);\n",
              "  inputElement.disabled = false;\n",
              "\n",
              "  const outputElement = document.getElementById(outputId);\n",
              "  outputElement.innerHTML = '';\n",
              "\n",
              "  const pickedPromise = new Promise((resolve) => {\n",
              "    inputElement.addEventListener('change', (e) => {\n",
              "      resolve(e.target.files);\n",
              "    });\n",
              "  });\n",
              "\n",
              "  const cancel = document.createElement('button');\n",
              "  inputElement.parentElement.appendChild(cancel);\n",
              "  cancel.textContent = 'Cancel upload';\n",
              "  const cancelPromise = new Promise((resolve) => {\n",
              "    cancel.onclick = () => {\n",
              "      resolve(null);\n",
              "    };\n",
              "  });\n",
              "\n",
              "  // Wait for the user to pick the files.\n",
              "  const files = yield {\n",
              "    promise: Promise.race([pickedPromise, cancelPromise]),\n",
              "    response: {\n",
              "      action: 'starting',\n",
              "    }\n",
              "  };\n",
              "\n",
              "  cancel.remove();\n",
              "\n",
              "  // Disable the input element since further picks are not allowed.\n",
              "  inputElement.disabled = true;\n",
              "\n",
              "  if (!files) {\n",
              "    return {\n",
              "      response: {\n",
              "        action: 'complete',\n",
              "      }\n",
              "    };\n",
              "  }\n",
              "\n",
              "  for (const file of files) {\n",
              "    const li = document.createElement('li');\n",
              "    li.append(span(file.name, {fontWeight: 'bold'}));\n",
              "    li.append(span(\n",
              "        `(${file.type || 'n/a'}) - ${file.size} bytes, ` +\n",
              "        `last modified: ${\n",
              "            file.lastModifiedDate ? file.lastModifiedDate.toLocaleDateString() :\n",
              "                                    'n/a'} - `));\n",
              "    const percent = span('0% done');\n",
              "    li.appendChild(percent);\n",
              "\n",
              "    outputElement.appendChild(li);\n",
              "\n",
              "    const fileDataPromise = new Promise((resolve) => {\n",
              "      const reader = new FileReader();\n",
              "      reader.onload = (e) => {\n",
              "        resolve(e.target.result);\n",
              "      };\n",
              "      reader.readAsArrayBuffer(file);\n",
              "    });\n",
              "    // Wait for the data to be ready.\n",
              "    let fileData = yield {\n",
              "      promise: fileDataPromise,\n",
              "      response: {\n",
              "        action: 'continue',\n",
              "      }\n",
              "    };\n",
              "\n",
              "    // Use a chunked sending to avoid message size limits. See b/62115660.\n",
              "    let position = 0;\n",
              "    do {\n",
              "      const length = Math.min(fileData.byteLength - position, MAX_PAYLOAD_SIZE);\n",
              "      const chunk = new Uint8Array(fileData, position, length);\n",
              "      position += length;\n",
              "\n",
              "      const base64 = btoa(String.fromCharCode.apply(null, chunk));\n",
              "      yield {\n",
              "        response: {\n",
              "          action: 'append',\n",
              "          file: file.name,\n",
              "          data: base64,\n",
              "        },\n",
              "      };\n",
              "\n",
              "      let percentDone = fileData.byteLength === 0 ?\n",
              "          100 :\n",
              "          Math.round((position / fileData.byteLength) * 100);\n",
              "      percent.textContent = `${percentDone}% done`;\n",
              "\n",
              "    } while (position < fileData.byteLength);\n",
              "  }\n",
              "\n",
              "  // All done.\n",
              "  yield {\n",
              "    response: {\n",
              "      action: 'complete',\n",
              "    }\n",
              "  };\n",
              "}\n",
              "\n",
              "scope.google = scope.google || {};\n",
              "scope.google.colab = scope.google.colab || {};\n",
              "scope.google.colab._files = {\n",
              "  _uploadFiles,\n",
              "  _uploadFilesContinue,\n",
              "};\n",
              "})(self);\n",
              "</script> "
            ]
          },
          "metadata": {}
        },
        {
          "output_type": "stream",
          "name": "stdout",
          "text": [
            "Saving Play Store Data.csv to Play Store Data.csv\n",
            "Saving User Reviews.csv to User Reviews.csv\n"
          ]
        }
      ],
      "source": [
        "# Download NLTK lexicon\n",
        "nltk.download('vader_lexicon')\n",
        "\n",
        "# Upload both CSV files\n",
        "uploaded = files.upload()"
      ]
    },
    {
      "cell_type": "code",
      "execution_count": 4,
      "metadata": {
        "id": "WScgXD7TN7GM"
      },
      "outputs": [],
      "source": [
        "# Load datasets\n",
        "apps_df = pd.read_csv('Play Store Data.csv')\n",
        "reviews_df = pd.read_csv('User Reviews.csv')\n"
      ]
    },
    {
      "cell_type": "code",
      "execution_count": 5,
      "metadata": {
        "colab": {
          "base_uri": "https://localhost:8080/"
        },
        "id": "6HrK_QhkN-xG",
        "outputId": "0f66ea68-283a-486a-9be8-096cccd01b25"
      },
      "outputs": [
        {
          "output_type": "stream",
          "name": "stderr",
          "text": [
            "/tmp/ipython-input-1847050285.py:4: FutureWarning: A value is trying to be set on a copy of a DataFrame or Series through chained assignment using an inplace method.\n",
            "The behavior will change in pandas 3.0. This inplace method will never work because the intermediate object on which we are setting values always behaves as a copy.\n",
            "\n",
            "For example, when doing 'df[col].method(value, inplace=True)', try using 'df.method({col: value}, inplace=True)' or df[col] = df[col].method(value) instead, to perform the operation inplace on the original object.\n",
            "\n",
            "\n",
            "  apps_df[column].fillna(apps_df[column].mode()[0], inplace=True)\n"
          ]
        }
      ],
      "source": [
        "# Data cleaning\n",
        "apps_df = apps_df.dropna(subset=['Rating'])\n",
        "for column in apps_df.columns:\n",
        "    apps_df[column].fillna(apps_df[column].mode()[0], inplace=True)\n",
        "apps_df.drop_duplicates(inplace=True)\n",
        "apps_df = apps_df[apps_df['Rating'] <= 5]\n",
        "reviews_df.dropna(subset=['Translated_Review'], inplace=True)\n",
        "\n",
        "apps_df['Installs'] = apps_df['Installs'].str.replace(',', '').str.replace('+', '').astype(int)\n",
        "apps_df['Price'] = apps_df['Price'].str.replace('$', '').astype(float)\n"
      ]
    },
    {
      "cell_type": "code",
      "execution_count": 6,
      "metadata": {
        "id": "V0g58qgYOGWP"
      },
      "outputs": [],
      "source": [
        "# Merge datasets\n",
        "merged_df = pd.merge(apps_df, reviews_df, on='App', how='inner')\n"
      ]
    },
    {
      "cell_type": "code",
      "execution_count": 7,
      "metadata": {
        "id": "BHux26IEOLw2"
      },
      "outputs": [],
      "source": [
        "# Convert size\n",
        "def convert_size(size):\n",
        "    if 'M' in size:\n",
        "        return float(size.replace('M', ''))\n",
        "    elif 'k' in size:\n",
        "        return float(size.replace('k', '')) / 1024\n",
        "    else:\n",
        "        return np.nan\n",
        "apps_df['Size'] = apps_df['Size'].apply(convert_size)"
      ]
    },
    {
      "cell_type": "code",
      "execution_count": 8,
      "metadata": {
        "id": "ktHqZ312OVOW"
      },
      "outputs": [],
      "source": [
        "# Log transforms\n",
        "apps_df['Log_Installs'] = np.log(apps_df['Installs'])\n",
        "apps_df['Reviews'] = apps_df['Reviews'].astype(int)\n",
        "apps_df['Log_Reviews'] = np.log(apps_df['Reviews'])"
      ]
    },
    {
      "cell_type": "code",
      "execution_count": 9,
      "metadata": {
        "id": "1gFHKfw3OYhy"
      },
      "outputs": [],
      "source": [
        "# Rating group\n",
        "def rating_group(rating):\n",
        "    if rating >= 4:\n",
        "        return 'Top rated app'\n",
        "    elif rating >= 3:\n",
        "        return 'Above average'\n",
        "    elif rating >= 2:\n",
        "        return 'Average'\n",
        "    else:\n",
        "        return 'Below Average'\n",
        "apps_df['Rating_Group'] = apps_df['Rating'].apply(rating_group)"
      ]
    },
    {
      "cell_type": "code",
      "execution_count": 10,
      "metadata": {
        "id": "DAJ-k5E1OkPh"
      },
      "outputs": [],
      "source": [
        "# Revenue\n",
        "apps_df['Revenue'] = apps_df['Price'] * apps_df['Installs']\n",
        "\n",
        "# Sentiment analysis\n",
        "sia = SentimentIntensityAnalyzer()\n",
        "reviews_df['Sentiment_Score'] = reviews_df['Translated_Review'].apply(lambda x: sia.polarity_scores(str(x))['compound'])\n",
        "\n",
        "# Date conversion\n",
        "apps_df['Last Updated'] = pd.to_datetime(apps_df['Last Updated'], errors='coerce')\n",
        "apps_df['Year'] = apps_df['Last Updated'].dt.year\n",
        "\n",
        "# Dashboard setup\n",
        "html_files_path = \"./\"\n",
        "os.makedirs(html_files_path, exist_ok=True)\n",
        "plot_containers = \"\""
      ]
    },
    {
      "cell_type": "code",
      "execution_count": 11,
      "metadata": {
        "id": "7sgbyJAIOrXA"
      },
      "outputs": [],
      "source": [
        "def save_plot_as_html(fig, filename, insight):\n",
        "    global plot_containers\n",
        "    filepath = os.path.join(html_files_path, filename)\n",
        "    html_content = pio.to_html(fig, full_html=False, include_plotlyjs='inline')\n",
        "    plot_containers += f\"\"\"\n",
        "    <div class=\"plot-container\" id=\"{filename}\" onclick=\"openPlot('{filename}')\">\n",
        "        <div class=\"plot\">{html_content}</div>\n",
        "        <div class=\"insights\">{insight}</div>\n",
        "    </div>\n",
        "    \"\"\"\n",
        "    fig.write_html(filepath, full_html=False, include_plotlyjs='inline')\n",
        "# Style\n",
        "plot_width = 400\n",
        "plot_height = 300\n",
        "plot_bg_color = 'black'\n",
        "text_color = 'white'\n",
        "title_font = {'size': 16}\n",
        "axis_font = {'size': 12}"
      ]
    },
    {
      "cell_type": "code",
      "execution_count": 12,
      "metadata": {
        "id": "tbLGtqXXO2il"
      },
      "outputs": [],
      "source": [
        "# Plot 1: Category Distribution\n",
        "category_counts = apps_df['Category'].value_counts().nlargest(10)\n",
        "fig1 = px.bar(x=category_counts.index, y=category_counts.values, labels={'x':'Category','y':'Count'},\n",
        "              title='Top Categories on Play Store', color=category_counts.index,\n",
        "              color_discrete_sequence=px.colors.sequential.Plasma, width=plot_width, height=plot_height)\n",
        "fig1.update_layout(plot_bgcolor=plot_bg_color, paper_bgcolor=plot_bg_color, font_color=text_color,\n",
        "                   title_font=title_font, xaxis=dict(title_font=axis_font), yaxis=dict(title_font=axis_font),\n",
        "                   margin=dict(l=10,r=10,t=30,b=10))\n",
        "save_plot_as_html(fig1, \"Category Graph 1.html\", \"Top categories: Tools, Entertainment, Productivity\")"
      ]
    },
    {
      "cell_type": "code",
      "execution_count": 13,
      "metadata": {
        "id": "C0OdJDacPMXu"
      },
      "outputs": [],
      "source": [
        "# Plot 2: Type Distribution\n",
        "type_counts = apps_df['Type'].value_counts()\n",
        "fig2 = px.pie(values=type_counts.values, names=type_counts.index, title='App Type Distribution',\n",
        "              color_discrete_sequence=px.colors.sequential.RdBu, width=plot_width, height=plot_height)\n",
        "fig2.update_layout(plot_bgcolor=plot_bg_color, paper_bgcolor=plot_bg_color, font_color=text_color,\n",
        "                   title_font=title_font, margin=dict(l=10,r=10,t=30,b=10))\n",
        "save_plot_as_html(fig2, \"Type Graph 2.html\", \"Most apps are Free, monetized via ads or purchases\")\n"
      ]
    },
    {
      "cell_type": "code",
      "execution_count": 14,
      "metadata": {
        "id": "W80mNfn3PRQv"
      },
      "outputs": [],
      "source": [
        "# Plot 3: Rating Histogram\n",
        "fig3 = px.histogram(apps_df, x='Rating', nbins=20, title='Rating Distribution',\n",
        "                   color_discrete_sequence=['#636EFA'], width=plot_width, height=plot_height)\n",
        "fig3.update_layout(plot_bgcolor=plot_bg_color, paper_bgcolor=plot_bg_color, font_color=text_color,\n",
        "                   title_font=title_font, xaxis=dict(title_font=axis_font), yaxis=dict(title_font=axis_font),\n",
        "                   margin=dict(l=10,r=10,t=30,b=10))\n",
        "save_plot_as_html(fig3, \"Rating Graph 3.html\", \"Ratings are skewed positively\")"
      ]
    },
    {
      "cell_type": "code",
      "execution_count": 15,
      "metadata": {
        "id": "BT7kt7ZtPVnY"
      },
      "outputs": [],
      "source": [
        "# Plot 4: Sentiment Distribution\n",
        "sentiment_counts = reviews_df['Sentiment_Score'].value_counts()\n",
        "fig4 = px.bar(x=sentiment_counts.index, y=sentiment_counts.values,\n",
        "              labels={'x':'Sentiment Score','y':'Count'}, title='Sentiment Distribution',\n",
        "              color=sentiment_counts.index, color_discrete_sequence=px.colors.sequential.RdPu,\n",
        "              width=plot_width, height=plot_height)\n",
        "fig4.update_layout(plot_bgcolor=plot_bg_color, paper_bgcolor=plot_bg_color, font_color=text_color,\n",
        "                   title_font=title_font, xaxis=dict(title_font=axis_font), yaxis=dict(title_font=axis_font),\n",
        "                   margin=dict(l=10,r=10,t=30,b=10))\n",
        "save_plot_as_html(fig4, \"Sentiment Graph 4.html\", \"Most reviews lean slightly positive\")"
      ]
    },
    {
      "cell_type": "code",
      "execution_count": 16,
      "metadata": {
        "id": "L5Ow-AOcPdvH"
      },
      "outputs": [],
      "source": [
        "# Plot 5: Installs by Category\n",
        "installs_by_category = apps_df.groupby('Category')['Installs'].sum().nlargest(10)\n",
        "fig5 = px.bar(x=installs_by_category.index, y=installs_by_category.values,\n",
        "              labels={'x':'Category','y':'Installs'}, title='Installs by Category',\n",
        "              color=installs_by_category.index, color_discrete_sequence=px.colors.sequential.Blues,\n",
        "              width=plot_width, height=plot_height)\n",
        "fig5.update_layout(plot_bgcolor=plot_bg_color, paper_bgcolor=plot_bg_color, font_color=text_color,\n",
        "                   title_font=title_font, xaxis=dict(title_font=axis_font), yaxis=dict(title_font=axis_font),\n",
        "                   margin=dict(l=10,r=10,t=30,b=10))\n",
        "save_plot_as_html(fig5, \"Installs Graph 5.html\", \"Communication & Social apps lead in installs\")"
      ]
    },
    {
      "cell_type": "code",
      "execution_count": 17,
      "metadata": {
        "id": "eUUwiDEmPlJq"
      },
      "outputs": [],
      "source": [
        "# Plot 6: Updates per Year\n",
        "updates_per_year = apps_df['Last Updated'].dt.year.value_counts().sort_index()\n",
        "fig6 = px.line(x=updates_per_year.index, y=updates_per_year.values,\n",
        "               labels={'x': 'Year', 'y': 'Number of Updates'}, title='Number of Updates Over the Years',\n",
        "               color_discrete_sequence=['#AB63FA'], width=plot_width, height=plot_height)\n",
        "fig6.update_layout(plot_bgcolor=plot_bg_color, paper_bgcolor=plot_bg_color, font_color=text_color,\n",
        "                   title_font=title_font, xaxis=dict(title_font=axis_font), yaxis=dict(title_font=axis_font),\n",
        "                   margin=dict(l=10, r=10, t=30, b=10))\n",
        "save_plot_as_html(fig6, \"Updates Graph 6.html\", \"Updates show active maintenance by developers\")"
      ]
    },
    {
      "cell_type": "code",
      "execution_count": 18,
      "metadata": {
        "id": "lzPSLyRbPqUX"
      },
      "outputs": [],
      "source": [
        "# Plot 7: Revenue by Category\n",
        "revenue_by_category = apps_df.groupby('Category')['Revenue'].sum().nlargest(10)\n",
        "fig7 = px.bar(x=revenue_by_category.index, y=revenue_by_category.values,\n",
        "              labels={'x':'Category','y':'Revenue'}, title='Revenue by Category',\n",
        "              color=revenue_by_category.index, color_discrete_sequence=px.colors.sequential.Greens,\n",
        "              width=plot_width, height=plot_height)\n",
        "fig7.update_layout(plot_bgcolor=plot_bg_color, paper_bgcolor=plot_bg_color, font_color=text_color,\n",
        "                   title_font=title_font, xaxis=dict(title_font=axis_font), yaxis=dict(title_font=axis_font),\n",
        "                   margin=dict(l=10,r=10,t=30,b=10))\n",
        "save_plot_as_html(fig7, \"Revenue Graph 7.html\", \"Business & Productivity apps earn the most\")"
      ]
    },
    {
      "cell_type": "code",
      "execution_count": 19,
      "metadata": {
        "id": "aKFUN9SwPvVu"
      },
      "outputs": [],
      "source": [
        "# Plot 8: Top Genres\n",
        "genre_counts = apps_df['Genres'].str.split(';', expand=True).stack().value_counts().nlargest(10)\n",
        "fig8 = px.bar(x=genre_counts.index, y=genre_counts.values,\n",
        "              labels={'x':'Genre','y':'Count'}, title='Top Genres',\n",
        "              color=genre_counts.index, color_discrete_sequence=px.colors.sequential.OrRd,\n",
        "              width=plot_width, height=plot_height)\n",
        "fig8.update_layout(plot_bgcolor=plot_bg_color, paper_bgcolor=plot_bg_color, font_color=text_color,\n",
        "                   title_font=title_font, xaxis=dict(title_font=axis_font), yaxis=dict(title_font=axis_font),\n",
        "                   margin=dict(l=10,r=10,t=30,b=10))\n",
        "save_plot_as_html(fig8, \"Genre Graph 8.html\", \"Action and Casual genres dominate\")"
      ]
    },
    {
      "cell_type": "code",
      "execution_count": 20,
      "metadata": {
        "id": "tga-F0aRP09p"
      },
      "outputs": [],
      "source": [
        "# Plot 9: Update Date vs Rating\n",
        "fig9 = px.scatter(apps_df, x='Last Updated', y='Rating', color='Type',\n",
        "                  title='Impact of Last Update on Rating',\n",
        "                  color_discrete_sequence=px.colors.qualitative.Vivid,\n",
        "                  width=plot_width, height=plot_height)\n",
        "fig9.update_layout(plot_bgcolor=plot_bg_color, paper_bgcolor=plot_bg_color, font_color=text_color,\n",
        "                   title_font=title_font, xaxis=dict(title_font=axis_font), yaxis=dict(title_font=axis_font),\n",
        "                   margin=dict(l=10,r=10,t=30,b=10))\n",
        "save_plot_as_html(fig9, \"Update Graph 9.html\", \"Frequent updates don’t guarantee higher ratings\")"
      ]
    },
    {
      "cell_type": "code",
      "execution_count": 21,
      "metadata": {
        "id": "sliL6ySnP7H5"
      },
      "outputs": [],
      "source": [
        "# Plot 10: Ratings - Paid vs Free\n",
        "fig10 = px.box(apps_df, x='Type', y='Rating', color='Type',\n",
        "               title='Rating for Paid vs Free Apps',\n",
        "               color_discrete_sequence=px.colors.qualitative.Pastel,\n",
        "               width=plot_width, height=plot_height)\n",
        "fig10.update_layout(plot_bgcolor=plot_bg_color, paper_bgcolor=plot_bg_color, font_color=text_color,\n",
        "                    title_font=title_font, xaxis=dict(title_font=axis_font), yaxis=dict(title_font=axis_font),\n",
        "                    margin=dict(l=10,r=10,t=30,b=10))\n",
        "save_plot_as_html(fig10, \"Paid Free Graph 10.html\", \"Paid apps tend to have better ratings\")"
      ]
    },
    {
      "cell_type": "code",
      "execution_count": 22,
      "metadata": {
        "colab": {
          "base_uri": "https://localhost:8080/"
        },
        "id": "fu_KnM5mQAwB",
        "outputId": "f19588d9-da8f-440e-96d0-19b061008487"
      },
      "outputs": [
        {
          "output_type": "stream",
          "name": "stdout",
          "text": [
            "Number of plots: 30\n"
          ]
        },
        {
          "output_type": "execute_result",
          "data": {
            "text/plain": [
              "False"
            ]
          },
          "metadata": {},
          "execution_count": 22
        }
      ],
      "source": [
        "# Final dashboard HTML\n",
        "print(\"Number of plots:\", plot_containers.count('plot-container'))\n",
        "\n",
        "dashboard_html = f\"\"\"\n",
        "<!DOCTYPE html>\n",
        "<html lang=\"en\">\n",
        "<head>\n",
        "    <meta charset=\"UTF-8\">\n",
        "    <meta name=\"viewport\" content=\"width=device-width,initial-scale=1.0\">\n",
        "    <title>Google Play Store Review Analytics</title>\n",
        "    <style>\n",
        "        body {{ font-family: Arial, sans-serif; background-color: #333; color: #fff; margin: 0; padding: 0; }}\n",
        "        .header {{ display: flex; align-items: center; justify-content: center; padding: 20px; background-color: #444 }}\n",
        "        .header img {{ margin: 0 10px; height: 50px; }}\n",
        "        .container {{ display: flex; flex-wrap: wrap; justify-content: center; padding: 20px; }}\n",
        "        .plot-container {{ border: 2px solid #555; margin: 10px; padding: 10px; width: {plot_width}px; height: {plot_height}px; overflow: hidden; position: relative; cursor: pointer; }}\n",
        "        .insights {{ display: none; position: absolute; right: 10px; top: 10px; background-color: rgba(0,0,0,0.7); padding: 5px; border-radius: 5px; color: #fff; }}\n",
        "        .plot-container:hover .insights {{ display: block; }}\n",
        "    </style>\n",
        "    <script>\n",
        "        function openPlot(filename) {{ window.open(filename, '_blank'); }}\n",
        "    </script>\n",
        "</head>\n",
        "<body>\n",
        "    <div class=\"header\">\n",
        "        <img src=\"https://upload.wikimedia.org/wikipedia/commons/thumb/4/4a/Logo_2013_Google.png/800px-Logo_2013_Google.png\" alt=\"Google Logo\">\n",
        "        <h1>Google Play Store Reviews Analytics</h1>\n",
        "        <img src=\"https://upload.wikimedia.org/wikipedia/commons/thumb/7/78/Google_Play_Store_badge_EN.svg/1024px-Google_Play_Store_badge_EN.svg.png\" alt=\"Google Play Store Logo\">\n",
        "    </div>\n",
        "    <div class=\"container\">\n",
        "        {plot_containers}\n",
        "    </div>\n",
        "</body>\n",
        "</html>\n",
        "\"\"\"\n",
        "\n",
        "dashboard_path = os.path.join(html_files_path, \"web_page.html\")\n",
        "with open(dashboard_path, \"w\", encoding=\"utf-8\") as f:\n",
        "    f.write(dashboard_html)\n",
        "\n",
        "# Launch in browser\n",
        "webbrowser.open('file://' + os.path.realpath(dashboard_path))"
      ]
    },
    {
      "cell_type": "code",
      "execution_count": 23,
      "metadata": {
        "colab": {
          "base_uri": "https://localhost:8080/",
          "height": 17
        },
        "id": "7Hm5GJB3RFS-",
        "outputId": "bc90769d-f086-4fa9-9f58-1b01ec1b0274"
      },
      "outputs": [
        {
          "output_type": "display_data",
          "data": {
            "text/plain": [
              "<IPython.core.display.Javascript object>"
            ],
            "application/javascript": [
              "\n",
              "    async function download(id, filename, size) {\n",
              "      if (!google.colab.kernel.accessAllowed) {\n",
              "        return;\n",
              "      }\n",
              "      const div = document.createElement('div');\n",
              "      const label = document.createElement('label');\n",
              "      label.textContent = `Downloading \"${filename}\": `;\n",
              "      div.appendChild(label);\n",
              "      const progress = document.createElement('progress');\n",
              "      progress.max = size;\n",
              "      div.appendChild(progress);\n",
              "      document.body.appendChild(div);\n",
              "\n",
              "      const buffers = [];\n",
              "      let downloaded = 0;\n",
              "\n",
              "      const channel = await google.colab.kernel.comms.open(id);\n",
              "      // Send a message to notify the kernel that we're ready.\n",
              "      channel.send({})\n",
              "\n",
              "      for await (const message of channel.messages) {\n",
              "        // Send a message to notify the kernel that we're ready.\n",
              "        channel.send({})\n",
              "        if (message.buffers) {\n",
              "          for (const buffer of message.buffers) {\n",
              "            buffers.push(buffer);\n",
              "            downloaded += buffer.byteLength;\n",
              "            progress.value = downloaded;\n",
              "          }\n",
              "        }\n",
              "      }\n",
              "      const blob = new Blob(buffers, {type: 'application/binary'});\n",
              "      const a = document.createElement('a');\n",
              "      a.href = window.URL.createObjectURL(blob);\n",
              "      a.download = filename;\n",
              "      div.appendChild(a);\n",
              "      a.click();\n",
              "      div.remove();\n",
              "    }\n",
              "  "
            ]
          },
          "metadata": {}
        },
        {
          "output_type": "display_data",
          "data": {
            "text/plain": [
              "<IPython.core.display.Javascript object>"
            ],
            "application/javascript": [
              "download(\"download_3a404bc3-cc22-4308-85a0-4f678ad5f67b\", \"web_page.html\", 46138706)"
            ]
          },
          "metadata": {}
        }
      ],
      "source": [
        "from google.colab import files\n",
        "\n",
        "# Download the dashboard HTML file\n",
        "files.download(dashboard_path)\n"
      ]
    },
    {
      "cell_type": "markdown",
      "source": [
        "Assinged tasks"
      ],
      "metadata": {
        "id": "leq75kC7mUIF"
      }
    },
    {
      "cell_type": "code",
      "source": [
        "import pandas as pd\n",
        "import plotly.express as px\n",
        "from datetime import datetime\n",
        "import pytz\n",
        "\n",
        "# Helper: current IST time\n",
        "ist = pytz.timezone('Asia/Kolkata')\n",
        "now = datetime.now(ist)\n",
        "hour = now.hour\n",
        "print(\"Current IST Hour:\", hour)\n"
      ],
      "metadata": {
        "colab": {
          "base_uri": "https://localhost:8080/"
        },
        "id": "43GMIL0UmO95",
        "outputId": "9d0d014b-39c8-41de-cf61-e8f692b115ce"
      },
      "execution_count": 24,
      "outputs": [
        {
          "output_type": "stream",
          "name": "stdout",
          "text": [
            "Current IST Hour: 15\n"
          ]
        }
      ]
    },
    {
      "cell_type": "code",
      "source": [
        "if 15 <= hour < 17:  # 3PM to 5PM\n",
        "    df1 = apps_df.copy()\n",
        "    df1 = df1[(df1['Rating'] >= 4.0) &\n",
        "              (df1['Size'] >= 10) &\n",
        "              (df1['Last Updated'].dt.month == 1)]\n",
        "\n",
        "    top10 = df1.groupby('Category')['Installs'].sum().nlargest(10).index\n",
        "    df1 = df1[df1['Category'].isin(top10)]\n",
        "\n",
        "    grouped = df1.groupby('Category').agg(\n",
        "        avg_rating=('Rating','mean'),\n",
        "        total_reviews=('Reviews','sum')\n",
        "    ).reset_index()\n",
        "\n",
        "    fig = px.bar(grouped, x='Category', y=['avg_rating','total_reviews'],\n",
        "                 barmode='group', title=\"Avg Rating & Reviews by Top 10 Categories\")\n",
        "    fig.show()\n",
        "else:\n",
        "    print(\"Task 1 chart available only between 3PM-5PM IST\")\n"
      ],
      "metadata": {
        "colab": {
          "base_uri": "https://localhost:8080/",
          "height": 542
        },
        "id": "guBUDSPpm_2C",
        "outputId": "a2d0cb77-fd53-458f-8f7a-6855b1da71e1"
      },
      "execution_count": 28,
      "outputs": [
        {
          "output_type": "display_data",
          "data": {
            "text/html": [
              "<html>\n",
              "<head><meta charset=\"utf-8\" /></head>\n",
              "<body>\n",
              "    <div>            <script src=\"https://cdnjs.cloudflare.com/ajax/libs/mathjax/2.7.5/MathJax.js?config=TeX-AMS-MML_SVG\"></script><script type=\"text/javascript\">if (window.MathJax && window.MathJax.Hub && window.MathJax.Hub.Config) {window.MathJax.Hub.Config({SVG: {font: \"STIX-Web\"}});}</script>                <script type=\"text/javascript\">window.PlotlyConfig = {MathJaxConfig: 'local'};</script>\n",
              "        <script charset=\"utf-8\" src=\"https://cdn.plot.ly/plotly-2.35.2.min.js\"></script>                <div id=\"c6311789-3c6f-4c6c-bea7-1ea8a6c8b703\" class=\"plotly-graph-div\" style=\"height:525px; width:100%;\"></div>            <script type=\"text/javascript\">                                    window.PLOTLYENV=window.PLOTLYENV || {};                                    if (document.getElementById(\"c6311789-3c6f-4c6c-bea7-1ea8a6c8b703\")) {                    Plotly.newPlot(                        \"c6311789-3c6f-4c6c-bea7-1ea8a6c8b703\",                        [{\"alignmentgroup\":\"True\",\"hovertemplate\":\"variable=avg_rating\\u003cbr\\u003eCategory=%{x}\\u003cbr\\u003evalue=%{y}\\u003cextra\\u003e\\u003c\\u002fextra\\u003e\",\"legendgroup\":\"avg_rating\",\"marker\":{\"color\":\"#636efa\",\"pattern\":{\"shape\":\"\"}},\"name\":\"avg_rating\",\"offsetgroup\":\"avg_rating\",\"orientation\":\"v\",\"showlegend\":true,\"textposition\":\"auto\",\"x\":[\"EDUCATION\",\"ENTERTAINMENT\",\"FAMILY\",\"GAME\",\"LIFESTYLE\",\"PERSONALIZATION\",\"PHOTOGRAPHY\",\"SPORTS\",\"TOOLS\",\"TRAVEL_AND_LOCAL\"],\"xaxis\":\"x\",\"y\":[4.4,4.3,4.3954545454545455,4.3133333333333335,4.38,4.475,4.15,4.3428571428571425,4.2,4.1],\"yaxis\":\"y\",\"type\":\"bar\"},{\"alignmentgroup\":\"True\",\"hovertemplate\":\"variable=total_reviews\\u003cbr\\u003eCategory=%{x}\\u003cbr\\u003evalue=%{y}\\u003cextra\\u003e\\u003c\\u002fextra\\u003e\",\"legendgroup\":\"total_reviews\",\"marker\":{\"color\":\"#EF553B\",\"pattern\":{\"shape\":\"\"}},\"name\":\"total_reviews\",\"offsetgroup\":\"total_reviews\",\"orientation\":\"v\",\"showlegend\":true,\"textposition\":\"auto\",\"x\":[\"EDUCATION\",\"ENTERTAINMENT\",\"FAMILY\",\"GAME\",\"LIFESTYLE\",\"PERSONALIZATION\",\"PHOTOGRAPHY\",\"SPORTS\",\"TOOLS\",\"TRAVEL_AND_LOCAL\"],\"xaxis\":\"x\",\"y\":[57645.0,869111.0,4544623.0,2397589.0,42809.0,155996.0,563720.0,1982017.0,8010.0,974.0],\"yaxis\":\"y\",\"type\":\"bar\"}],                        {\"template\":{\"data\":{\"histogram2dcontour\":[{\"type\":\"histogram2dcontour\",\"colorbar\":{\"outlinewidth\":0,\"ticks\":\"\"},\"colorscale\":[[0.0,\"#0d0887\"],[0.1111111111111111,\"#46039f\"],[0.2222222222222222,\"#7201a8\"],[0.3333333333333333,\"#9c179e\"],[0.4444444444444444,\"#bd3786\"],[0.5555555555555556,\"#d8576b\"],[0.6666666666666666,\"#ed7953\"],[0.7777777777777778,\"#fb9f3a\"],[0.8888888888888888,\"#fdca26\"],[1.0,\"#f0f921\"]]}],\"choropleth\":[{\"type\":\"choropleth\",\"colorbar\":{\"outlinewidth\":0,\"ticks\":\"\"}}],\"histogram2d\":[{\"type\":\"histogram2d\",\"colorbar\":{\"outlinewidth\":0,\"ticks\":\"\"},\"colorscale\":[[0.0,\"#0d0887\"],[0.1111111111111111,\"#46039f\"],[0.2222222222222222,\"#7201a8\"],[0.3333333333333333,\"#9c179e\"],[0.4444444444444444,\"#bd3786\"],[0.5555555555555556,\"#d8576b\"],[0.6666666666666666,\"#ed7953\"],[0.7777777777777778,\"#fb9f3a\"],[0.8888888888888888,\"#fdca26\"],[1.0,\"#f0f921\"]]}],\"heatmap\":[{\"type\":\"heatmap\",\"colorbar\":{\"outlinewidth\":0,\"ticks\":\"\"},\"colorscale\":[[0.0,\"#0d0887\"],[0.1111111111111111,\"#46039f\"],[0.2222222222222222,\"#7201a8\"],[0.3333333333333333,\"#9c179e\"],[0.4444444444444444,\"#bd3786\"],[0.5555555555555556,\"#d8576b\"],[0.6666666666666666,\"#ed7953\"],[0.7777777777777778,\"#fb9f3a\"],[0.8888888888888888,\"#fdca26\"],[1.0,\"#f0f921\"]]}],\"heatmapgl\":[{\"type\":\"heatmapgl\",\"colorbar\":{\"outlinewidth\":0,\"ticks\":\"\"},\"colorscale\":[[0.0,\"#0d0887\"],[0.1111111111111111,\"#46039f\"],[0.2222222222222222,\"#7201a8\"],[0.3333333333333333,\"#9c179e\"],[0.4444444444444444,\"#bd3786\"],[0.5555555555555556,\"#d8576b\"],[0.6666666666666666,\"#ed7953\"],[0.7777777777777778,\"#fb9f3a\"],[0.8888888888888888,\"#fdca26\"],[1.0,\"#f0f921\"]]}],\"contourcarpet\":[{\"type\":\"contourcarpet\",\"colorbar\":{\"outlinewidth\":0,\"ticks\":\"\"}}],\"contour\":[{\"type\":\"contour\",\"colorbar\":{\"outlinewidth\":0,\"ticks\":\"\"},\"colorscale\":[[0.0,\"#0d0887\"],[0.1111111111111111,\"#46039f\"],[0.2222222222222222,\"#7201a8\"],[0.3333333333333333,\"#9c179e\"],[0.4444444444444444,\"#bd3786\"],[0.5555555555555556,\"#d8576b\"],[0.6666666666666666,\"#ed7953\"],[0.7777777777777778,\"#fb9f3a\"],[0.8888888888888888,\"#fdca26\"],[1.0,\"#f0f921\"]]}],\"surface\":[{\"type\":\"surface\",\"colorbar\":{\"outlinewidth\":0,\"ticks\":\"\"},\"colorscale\":[[0.0,\"#0d0887\"],[0.1111111111111111,\"#46039f\"],[0.2222222222222222,\"#7201a8\"],[0.3333333333333333,\"#9c179e\"],[0.4444444444444444,\"#bd3786\"],[0.5555555555555556,\"#d8576b\"],[0.6666666666666666,\"#ed7953\"],[0.7777777777777778,\"#fb9f3a\"],[0.8888888888888888,\"#fdca26\"],[1.0,\"#f0f921\"]]}],\"mesh3d\":[{\"type\":\"mesh3d\",\"colorbar\":{\"outlinewidth\":0,\"ticks\":\"\"}}],\"scatter\":[{\"fillpattern\":{\"fillmode\":\"overlay\",\"size\":10,\"solidity\":0.2},\"type\":\"scatter\"}],\"parcoords\":[{\"type\":\"parcoords\",\"line\":{\"colorbar\":{\"outlinewidth\":0,\"ticks\":\"\"}}}],\"scatterpolargl\":[{\"type\":\"scatterpolargl\",\"marker\":{\"colorbar\":{\"outlinewidth\":0,\"ticks\":\"\"}}}],\"bar\":[{\"error_x\":{\"color\":\"#2a3f5f\"},\"error_y\":{\"color\":\"#2a3f5f\"},\"marker\":{\"line\":{\"color\":\"#E5ECF6\",\"width\":0.5},\"pattern\":{\"fillmode\":\"overlay\",\"size\":10,\"solidity\":0.2}},\"type\":\"bar\"}],\"scattergeo\":[{\"type\":\"scattergeo\",\"marker\":{\"colorbar\":{\"outlinewidth\":0,\"ticks\":\"\"}}}],\"scatterpolar\":[{\"type\":\"scatterpolar\",\"marker\":{\"colorbar\":{\"outlinewidth\":0,\"ticks\":\"\"}}}],\"histogram\":[{\"marker\":{\"pattern\":{\"fillmode\":\"overlay\",\"size\":10,\"solidity\":0.2}},\"type\":\"histogram\"}],\"scattergl\":[{\"type\":\"scattergl\",\"marker\":{\"colorbar\":{\"outlinewidth\":0,\"ticks\":\"\"}}}],\"scatter3d\":[{\"type\":\"scatter3d\",\"line\":{\"colorbar\":{\"outlinewidth\":0,\"ticks\":\"\"}},\"marker\":{\"colorbar\":{\"outlinewidth\":0,\"ticks\":\"\"}}}],\"scattermapbox\":[{\"type\":\"scattermapbox\",\"marker\":{\"colorbar\":{\"outlinewidth\":0,\"ticks\":\"\"}}}],\"scatterternary\":[{\"type\":\"scatterternary\",\"marker\":{\"colorbar\":{\"outlinewidth\":0,\"ticks\":\"\"}}}],\"scattercarpet\":[{\"type\":\"scattercarpet\",\"marker\":{\"colorbar\":{\"outlinewidth\":0,\"ticks\":\"\"}}}],\"carpet\":[{\"aaxis\":{\"endlinecolor\":\"#2a3f5f\",\"gridcolor\":\"white\",\"linecolor\":\"white\",\"minorgridcolor\":\"white\",\"startlinecolor\":\"#2a3f5f\"},\"baxis\":{\"endlinecolor\":\"#2a3f5f\",\"gridcolor\":\"white\",\"linecolor\":\"white\",\"minorgridcolor\":\"white\",\"startlinecolor\":\"#2a3f5f\"},\"type\":\"carpet\"}],\"table\":[{\"cells\":{\"fill\":{\"color\":\"#EBF0F8\"},\"line\":{\"color\":\"white\"}},\"header\":{\"fill\":{\"color\":\"#C8D4E3\"},\"line\":{\"color\":\"white\"}},\"type\":\"table\"}],\"barpolar\":[{\"marker\":{\"line\":{\"color\":\"#E5ECF6\",\"width\":0.5},\"pattern\":{\"fillmode\":\"overlay\",\"size\":10,\"solidity\":0.2}},\"type\":\"barpolar\"}],\"pie\":[{\"automargin\":true,\"type\":\"pie\"}]},\"layout\":{\"autotypenumbers\":\"strict\",\"colorway\":[\"#636efa\",\"#EF553B\",\"#00cc96\",\"#ab63fa\",\"#FFA15A\",\"#19d3f3\",\"#FF6692\",\"#B6E880\",\"#FF97FF\",\"#FECB52\"],\"font\":{\"color\":\"#2a3f5f\"},\"hovermode\":\"closest\",\"hoverlabel\":{\"align\":\"left\"},\"paper_bgcolor\":\"white\",\"plot_bgcolor\":\"#E5ECF6\",\"polar\":{\"bgcolor\":\"#E5ECF6\",\"angularaxis\":{\"gridcolor\":\"white\",\"linecolor\":\"white\",\"ticks\":\"\"},\"radialaxis\":{\"gridcolor\":\"white\",\"linecolor\":\"white\",\"ticks\":\"\"}},\"ternary\":{\"bgcolor\":\"#E5ECF6\",\"aaxis\":{\"gridcolor\":\"white\",\"linecolor\":\"white\",\"ticks\":\"\"},\"baxis\":{\"gridcolor\":\"white\",\"linecolor\":\"white\",\"ticks\":\"\"},\"caxis\":{\"gridcolor\":\"white\",\"linecolor\":\"white\",\"ticks\":\"\"}},\"coloraxis\":{\"colorbar\":{\"outlinewidth\":0,\"ticks\":\"\"}},\"colorscale\":{\"sequential\":[[0.0,\"#0d0887\"],[0.1111111111111111,\"#46039f\"],[0.2222222222222222,\"#7201a8\"],[0.3333333333333333,\"#9c179e\"],[0.4444444444444444,\"#bd3786\"],[0.5555555555555556,\"#d8576b\"],[0.6666666666666666,\"#ed7953\"],[0.7777777777777778,\"#fb9f3a\"],[0.8888888888888888,\"#fdca26\"],[1.0,\"#f0f921\"]],\"sequentialminus\":[[0.0,\"#0d0887\"],[0.1111111111111111,\"#46039f\"],[0.2222222222222222,\"#7201a8\"],[0.3333333333333333,\"#9c179e\"],[0.4444444444444444,\"#bd3786\"],[0.5555555555555556,\"#d8576b\"],[0.6666666666666666,\"#ed7953\"],[0.7777777777777778,\"#fb9f3a\"],[0.8888888888888888,\"#fdca26\"],[1.0,\"#f0f921\"]],\"diverging\":[[0,\"#8e0152\"],[0.1,\"#c51b7d\"],[0.2,\"#de77ae\"],[0.3,\"#f1b6da\"],[0.4,\"#fde0ef\"],[0.5,\"#f7f7f7\"],[0.6,\"#e6f5d0\"],[0.7,\"#b8e186\"],[0.8,\"#7fbc41\"],[0.9,\"#4d9221\"],[1,\"#276419\"]]},\"xaxis\":{\"gridcolor\":\"white\",\"linecolor\":\"white\",\"ticks\":\"\",\"title\":{\"standoff\":15},\"zerolinecolor\":\"white\",\"automargin\":true,\"zerolinewidth\":2},\"yaxis\":{\"gridcolor\":\"white\",\"linecolor\":\"white\",\"ticks\":\"\",\"title\":{\"standoff\":15},\"zerolinecolor\":\"white\",\"automargin\":true,\"zerolinewidth\":2},\"scene\":{\"xaxis\":{\"backgroundcolor\":\"#E5ECF6\",\"gridcolor\":\"white\",\"linecolor\":\"white\",\"showbackground\":true,\"ticks\":\"\",\"zerolinecolor\":\"white\",\"gridwidth\":2},\"yaxis\":{\"backgroundcolor\":\"#E5ECF6\",\"gridcolor\":\"white\",\"linecolor\":\"white\",\"showbackground\":true,\"ticks\":\"\",\"zerolinecolor\":\"white\",\"gridwidth\":2},\"zaxis\":{\"backgroundcolor\":\"#E5ECF6\",\"gridcolor\":\"white\",\"linecolor\":\"white\",\"showbackground\":true,\"ticks\":\"\",\"zerolinecolor\":\"white\",\"gridwidth\":2}},\"shapedefaults\":{\"line\":{\"color\":\"#2a3f5f\"}},\"annotationdefaults\":{\"arrowcolor\":\"#2a3f5f\",\"arrowhead\":0,\"arrowwidth\":1},\"geo\":{\"bgcolor\":\"white\",\"landcolor\":\"#E5ECF6\",\"subunitcolor\":\"white\",\"showland\":true,\"showlakes\":true,\"lakecolor\":\"white\"},\"title\":{\"x\":0.05},\"mapbox\":{\"style\":\"light\"}}},\"xaxis\":{\"anchor\":\"y\",\"domain\":[0.0,1.0],\"title\":{\"text\":\"Category\"}},\"yaxis\":{\"anchor\":\"x\",\"domain\":[0.0,1.0],\"title\":{\"text\":\"value\"}},\"legend\":{\"title\":{\"text\":\"variable\"},\"tracegroupgap\":0},\"title\":{\"text\":\"Avg Rating & Reviews by Top 10 Categories\"},\"barmode\":\"group\"},                        {\"responsive\": true}                    ).then(function(){\n",
              "                            \n",
              "var gd = document.getElementById('c6311789-3c6f-4c6c-bea7-1ea8a6c8b703');\n",
              "var x = new MutationObserver(function (mutations, observer) {{\n",
              "        var display = window.getComputedStyle(gd).display;\n",
              "        if (!display || display === 'none') {{\n",
              "            console.log([gd, 'removed!']);\n",
              "            Plotly.purge(gd);\n",
              "            observer.disconnect();\n",
              "        }}\n",
              "}});\n",
              "\n",
              "// Listen for the removal of the full notebook cells\n",
              "var notebookContainer = gd.closest('#notebook-container');\n",
              "if (notebookContainer) {{\n",
              "    x.observe(notebookContainer, {childList: true});\n",
              "}}\n",
              "\n",
              "// Listen for the clearing of the current output cell\n",
              "var outputEl = gd.closest('.output');\n",
              "if (outputEl) {{\n",
              "    x.observe(outputEl, {childList: true});\n",
              "}}\n",
              "\n",
              "                        })                };                            </script>        </div>\n",
              "</body>\n",
              "</html>"
            ]
          },
          "metadata": {}
        }
      ]
    },
    {
      "cell_type": "code",
      "source": [
        "if 18 <= hour < 20:  # 6PM to 8PM\n",
        "    df2 = apps_df.copy()\n",
        "    df2 = df2[~df2['Category'].str.startswith(('A','C','G','S'))]\n",
        "\n",
        "    top5 = df2.groupby('Category')['Installs'].sum().nlargest(5).index\n",
        "    df2 = df2[df2['Category'].isin(top5)]\n",
        "\n",
        "    df2['highlight'] = df2['Installs'] > 1_000_000\n",
        "\n",
        "    fig = px.choropleth(df2,\n",
        "                        locations=\"Country\",  # ⚠️ ensure you have a 'Country' column\n",
        "                        color=\"Installs\",\n",
        "                        hover_name=\"Category\",\n",
        "                        title=\"Global Installs by Category\")\n",
        "    fig.show()\n",
        "else:\n",
        "    print(\"Task 2 chart available only between 6PM-8PM IST\")\n"
      ],
      "metadata": {
        "colab": {
          "base_uri": "https://localhost:8080/"
        },
        "id": "dANg7ct_ntuP",
        "outputId": "74ad867b-0660-4124-8d1a-29f726a056f5"
      },
      "execution_count": 30,
      "outputs": [
        {
          "output_type": "stream",
          "name": "stdout",
          "text": [
            "Task 2 chart available only between 6PM-8PM IST\n"
          ]
        }
      ]
    },
    {
      "cell_type": "code",
      "source": [
        "if 13 <= hour < 14:  # 1PM to 2PM\n",
        "    df3 = apps_df.copy()\n",
        "    df3 = df3[(df3['Installs'] >= 10_000) &\n",
        "              (df3['Revenue'] >= 10_000) &\n",
        "              (df3['Android Ver'] > 4.0) &\n",
        "              (df3['Size'] > 15) &\n",
        "              (df3['Content Rating'] == 'Everyone') &\n",
        "              (df3['App'].str.len() <= 30)]\n",
        "\n",
        "    top3 = df3.groupby('Category')['Installs'].sum().nlargest(3).index\n",
        "    df3 = df3[df3['Category'].isin(top3)]\n",
        "\n",
        "    grouped = df3.groupby(['Category','Type']).agg(\n",
        "        avg_installs=('Installs','mean'),\n",
        "        avg_revenue=('Revenue','mean')\n",
        "    ).reset_index()\n",
        "\n",
        "    fig = px.bar(grouped, x='Category', y='avg_installs', color='Type',\n",
        "                 title=\"Installs vs Revenue Free vs Paid\", barmode='group')\n",
        "    fig.add_scatter(x=grouped['Category'], y=grouped['avg_revenue'],\n",
        "                    mode='lines+markers', name='Revenue', yaxis='y2')\n",
        "    fig.update_layout(\n",
        "        yaxis2=dict(overlaying='y', side='right', title='Revenue')\n",
        "    )\n",
        "    fig.show()\n",
        "else:\n",
        "    print(\"Task 3 chart available only between 1PM-2PM IST\")\n"
      ],
      "metadata": {
        "colab": {
          "base_uri": "https://localhost:8080/"
        },
        "id": "hourB5p8n05F",
        "outputId": "57d63c8f-c752-439f-89ed-f4b3fb4f7de6"
      },
      "execution_count": 31,
      "outputs": [
        {
          "output_type": "stream",
          "name": "stdout",
          "text": [
            "Task 3 chart available only between 1PM-2PM IST\n"
          ]
        }
      ]
    },
    {
      "cell_type": "code",
      "source": [
        "if 18 <= hour < 21:  # 6PM to 9PM\n",
        "    df4 = apps_df.copy()\n",
        "    df4 = df4[(df4['Category'].str.startswith(('E','C','B'))) &\n",
        "              (~df4['App'].str.startswith(('x','y','z'))) &\n",
        "              (df4['Reviews'] > 500) &\n",
        "              (~df4['App'].str.contains('S'))]\n",
        "\n",
        "    # Translate categories\n",
        "    translate = {\n",
        "        'Beauty': 'सौंदर्य',   # Hindi\n",
        "        'Business': 'வணிகம்', # Tamil\n",
        "        'Dating': 'Partnersuche' # German\n",
        "    }\n",
        "    df4['Category'] = df4['Category'].replace(translate)\n",
        "\n",
        "    monthly = df4.groupby([pd.Grouper(key='Last Updated', freq='M'),'Category'])['Installs'].sum().reset_index()\n",
        "    monthly['pct_change'] = monthly.groupby('Category')['Installs'].pct_change()*100\n",
        "\n",
        "    fig = px.line(monthly, x='Last Updated', y='Installs', color='Category',\n",
        "                  title=\"Monthly Install Trends\")\n",
        "    # Shade where growth > 20%\n",
        "    for cat in monthly['Category'].unique():\n",
        "        sub = monthly[(monthly['Category']==cat) & (monthly['pct_change']>20)]\n",
        "        fig.add_scatter(x=sub['Last Updated'], y=sub['Installs'],\n",
        "                        fill='tozeroy', mode='none', name=f\"{cat} growth>20%\")\n",
        "    fig.show()\n",
        "else:\n",
        "    print(\"Task 4 chart available only between 6PM-9PM IST\")\n"
      ],
      "metadata": {
        "colab": {
          "base_uri": "https://localhost:8080/"
        },
        "id": "blM7yJcPn399",
        "outputId": "bc669867-1956-4dd2-c3ca-5443975f1d84"
      },
      "execution_count": 32,
      "outputs": [
        {
          "output_type": "stream",
          "name": "stdout",
          "text": [
            "Task 4 chart available only between 6PM-9PM IST\n"
          ]
        }
      ]
    },
    {
      "cell_type": "code",
      "source": [
        "if 17 <= hour < 19:  # 5PM to 7PM\n",
        "    df5 = apps_df.copy()\n",
        "    valid_cats = ['Game','Beauty','Business','Comics','Communication','Dating','Entertainment','Social','Event']\n",
        "    df5 = df5[(df5['Rating'] > 3.5) &\n",
        "              (df5['Category'].isin(valid_cats)) &\n",
        "              (df5['Reviews'] > 500) &\n",
        "              (df5['Installs'] > 50_000) &\n",
        "              (~df5['App'].str.contains('S')) &\n",
        "              (df5['Sentiment_Subjectivity'] > 0.5)]\n",
        "\n",
        "    translate = {\n",
        "        'Beauty': 'सौंदर्य',\n",
        "        'Business': 'வணிகம்',\n",
        "        'Dating': 'Partnersuche'\n",
        "    }\n",
        "    df5['Category'] = df5['Category'].replace(translate)\n",
        "\n",
        "    fig = px.scatter(df5, x='Size', y='Rating', size='Installs',\n",
        "                     color='Category', title=\"Size vs Rating Bubble Chart\")\n",
        "    fig.update_traces(marker=dict(line=dict(width=1,color='DarkSlateGrey')))\n",
        "\n",
        "    # Highlight Game category in pink\n",
        "    game_mask = df5['Category'] == 'Game'\n",
        "    fig.add_scatter(x=df5.loc[game_mask,'Size'],\n",
        "                    y=df5.loc[game_mask,'Rating'],\n",
        "                    mode='markers',\n",
        "                    marker=dict(size=df5.loc[game_mask,'Installs']/100000,\n",
        "                                color='pink'),\n",
        "                    name='Game Highlight')\n",
        "    fig.show()\n",
        "else:\n",
        "    print(\"Task 5 chart available only between 5PM-7PM IST\")\n"
      ],
      "metadata": {
        "colab": {
          "base_uri": "https://localhost:8080/"
        },
        "id": "bWkTlP3rn9iu",
        "outputId": "bccaf23e-5ea2-4163-c28c-d7ac71feffb4"
      },
      "execution_count": 33,
      "outputs": [
        {
          "output_type": "stream",
          "name": "stdout",
          "text": [
            "Task 5 chart available only between 5PM-7PM IST\n"
          ]
        }
      ]
    }
  ],
  "metadata": {
    "colab": {
      "provenance": []
    },
    "kernelspec": {
      "display_name": "Python 3",
      "name": "python3"
    },
    "language_info": {
      "name": "python"
    }
  },
  "nbformat": 4,
  "nbformat_minor": 0
}